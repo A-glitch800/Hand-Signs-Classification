{
 "cells": [
  {
   "cell_type": "markdown",
   "metadata": {},
   "source": [
    "# 1. Import Dependencies"
   ]
  },
  {
   "cell_type": "code",
   "execution_count": 1,
   "metadata": {},
   "outputs": [
    {
     "name": "stdout",
     "output_type": "stream",
     "text": [
      "Collecting opencv-python\n",
      "  Using cached opencv_python-4.6.0.66-cp36-abi3-win_amd64.whl (35.6 MB)\n",
      "Collecting numpy>=1.19.3\n",
      "  Downloading numpy-1.24.0-cp310-cp310-win_amd64.whl (14.8 MB)\n",
      "     --------------------------------------- 14.8/14.8 MB 32.7 MB/s eta 0:00:00\n",
      "Installing collected packages: numpy, opencv-python\n",
      "Successfully installed numpy-1.24.0 opencv-python-4.6.0.66\n"
     ]
    }
   ],
   "source": [
    "!pip install opencv-python"
   ]
  },
  {
   "cell_type": "code",
   "execution_count": 1,
   "metadata": {},
   "outputs": [],
   "source": [
    "# Import opencv\n",
    "import cv2 \n",
    "\n",
    "# Import uuid\n",
    "import uuid\n",
    "\n",
    "# Import Operating System\n",
    "import os\n",
    "\n",
    "# Import time\n",
    "import time"
   ]
  },
  {
   "cell_type": "markdown",
   "metadata": {},
   "source": [
    "# 2. Define Images to Collect"
   ]
  },
  {
   "cell_type": "code",
   "execution_count": 3,
   "metadata": {},
   "outputs": [],
   "source": [
    "labels = ['thumbsup', 'thumbsdown']\n",
    "number_imgs = 6"
   ]
  },
  {
   "cell_type": "markdown",
   "metadata": {},
   "source": [
    "# 3. Setup Folders "
   ]
  },
  {
   "cell_type": "code",
   "execution_count": 2,
   "metadata": {},
   "outputs": [],
   "source": [
    "IMAGES_PATH = os.path.join('Tensorflow', 'workspace', 'images', 'collectedimages')"
   ]
  },
  {
   "cell_type": "code",
   "execution_count": 4,
   "metadata": {},
   "outputs": [],
   "source": [
    "if not os.path.exists(IMAGES_PATH):\n",
    "    if os.name == 'posix':\n",
    "        !mkdir -p {IMAGES_PATH}\n",
    "    if os.name == 'nt':\n",
    "         !mkdir {IMAGES_PATH}\n",
    "for label in labels:\n",
    "    path = os.path.join(IMAGES_PATH, label)\n",
    "    if not os.path.exists(path):\n",
    "        !mkdir {path}"
   ]
  },
  {
   "cell_type": "markdown",
   "metadata": {},
   "source": [
    "# 4. Capture Images"
   ]
  },
  {
   "cell_type": "code",
   "execution_count": 6,
   "metadata": {},
   "outputs": [
    {
     "name": "stdout",
     "output_type": "stream",
     "text": [
      "Collecting images for thumbsup\n",
      "Collecting image 0\n",
      "Collecting image 1\n",
      "Collecting image 2\n",
      "Collecting image 3\n",
      "Collecting image 4\n",
      "Collecting image 5\n",
      "Collecting images for thumbsdown\n",
      "Collecting image 0\n",
      "Collecting image 1\n",
      "Collecting image 2\n",
      "Collecting image 3\n",
      "Collecting image 4\n",
      "Collecting image 5\n"
     ]
    }
   ],
   "source": [
    "for label in labels:\n",
    "    cap = cv2.VideoCapture(0)\n",
    "    print('Collecting images for {}'.format(label))\n",
    "    time.sleep(5)\n",
    "    for imgnum in range(number_imgs):\n",
    "        print('Collecting image {}'.format(imgnum))\n",
    "        ret, frame = cap.read()\n",
    "        imgname = os.path.join(IMAGES_PATH,label,label+'.'+'{}.jpg'.format(str(uuid.uuid1())))\n",
    "        cv2.imwrite(imgname, frame)\n",
    "        cv2.imshow('frame', frame)\n",
    "        time.sleep(3)\n",
    "\n",
    "        if cv2.waitKey(1) & 0xFF == ord('q'):\n",
    "            break\n",
    "cap.release()\n",
    "cv2.destroyAllWindows()"
   ]
  },
  {
   "cell_type": "markdown",
   "metadata": {},
   "source": [
    "# 5. Image Labelling"
   ]
  },
  {
   "cell_type": "code",
   "execution_count": 7,
   "metadata": {},
   "outputs": [
    {
     "name": "stdout",
     "output_type": "stream",
     "text": [
      "Collecting pyqt5\n",
      "  Using cached PyQt5-5.15.7-cp37-abi3-win_amd64.whl (6.8 MB)\n",
      "Collecting lxml\n",
      "  Downloading lxml-4.9.2-cp310-cp310-win_amd64.whl (3.8 MB)\n",
      "     ---------------------------------------- 3.8/3.8 MB 24.1 MB/s eta 0:00:00\n",
      "Collecting PyQt5-Qt5>=5.15.0\n",
      "  Using cached PyQt5_Qt5-5.15.2-py3-none-win_amd64.whl (50.1 MB)\n",
      "Collecting PyQt5-sip<13,>=12.11\n",
      "  Downloading PyQt5_sip-12.11.0-cp310-cp310-win_amd64.whl (78 kB)\n",
      "     ---------------------------------------- 78.3/78.3 kB 4.3 MB/s eta 0:00:00\n",
      "Installing collected packages: PyQt5-Qt5, PyQt5-sip, lxml, pyqt5\n",
      "Successfully installed PyQt5-Qt5-5.15.2 PyQt5-sip-12.11.0 lxml-4.9.2 pyqt5-5.15.7\n"
     ]
    }
   ],
   "source": [
    "!pip install --upgrade pyqt5 lxml"
   ]
  },
  {
   "cell_type": "code",
   "execution_count": 8,
   "metadata": {},
   "outputs": [],
   "source": [
    "LABELIMG_PATH = os.path.join('Tensorflow', 'labelimg')"
   ]
  },
  {
   "cell_type": "code",
   "execution_count": 9,
   "metadata": {},
   "outputs": [
    {
     "name": "stderr",
     "output_type": "stream",
     "text": [
      "Cloning into 'Tensorflow\\labelimg'...\n"
     ]
    }
   ],
   "source": [
    "if not os.path.exists(LABELIMG_PATH):\n",
    "    !mkdir {LABELIMG_PATH}\n",
    "    !git clone https://github.com/tzutalin/labelImg {LABELIMG_PATH}"
   ]
  },
  {
   "cell_type": "code",
   "execution_count": 10,
   "metadata": {},
   "outputs": [],
   "source": [
    "if os.name == 'posix':\n",
    "    !make qt5py3\n",
    "if os.name =='nt':\n",
    "    !cd {LABELIMG_PATH} && pyrcc5 -o libs/resources.py resources.qrc"
   ]
  },
  {
   "cell_type": "code",
   "execution_count": 9,
   "metadata": {},
   "outputs": [
    {
     "name": "stdout",
     "output_type": "stream",
     "text": [
      "Image:C:\\Users\\ASOMAN\\Desktop\\ObjectDeten1\\TFODCourse\\Tensorflow\\workspace\\images\\collectedimages\\thumbsup\\thumbsup.7b7e6241-81ee-11ed-910a-8c04ba17c1e0.jpg -> Annotation:C:/Users/ASOMAN/Desktop/ObjectDeten1/TFODCourse/Tensorflow/workspace/images/collectedimages/thumbsup\\thumbsup.7b7e6241-81ee-11ed-910a-8c04ba17c1e0.xml\n",
      "Cancel creation.\n",
      "Image:C:\\Users\\ASOMAN\\Desktop\\ObjectDeten1\\TFODCourse\\Tensorflow\\workspace\\images\\collectedimages\\thumbsup\\thumbsup.7d4c9124-81ee-11ed-b913-8c04ba17c1e0.jpg -> Annotation:C:/Users/ASOMAN/Desktop/ObjectDeten1/TFODCourse/Tensorflow/workspace/images/collectedimages/thumbsup\\thumbsup.7d4c9124-81ee-11ed-b913-8c04ba17c1e0.xml\n",
      "Image:C:\\Users\\ASOMAN\\Desktop\\ObjectDeten1\\TFODCourse\\Tensorflow\\workspace\\images\\collectedimages\\thumbsup\\thumbsup.7f1a4bfe-81ee-11ed-9704-8c04ba17c1e0.jpg -> Annotation:C:/Users/ASOMAN/Desktop/ObjectDeten1/TFODCourse/Tensorflow/workspace/images/collectedimages/thumbsup\\thumbsup.7f1a4bfe-81ee-11ed-9704-8c04ba17c1e0.xml\n",
      "Image:C:\\Users\\ASOMAN\\Desktop\\ObjectDeten1\\TFODCourse\\Tensorflow\\workspace\\images\\collectedimages\\thumbsup\\thumbsup.77e0058e-81ee-11ed-a927-8c04ba17c1e0.jpg -> Annotation:C:/Users/ASOMAN/Desktop/ObjectDeten1/TFODCourse/Tensorflow/workspace/images/collectedimages/thumbsup\\thumbsup.77e0058e-81ee-11ed-a927-8c04ba17c1e0.xml\n",
      "Image:C:\\Users\\ASOMAN\\Desktop\\ObjectDeten1\\TFODCourse\\Tensorflow\\workspace\\images\\collectedimages\\thumbsup\\thumbsup.79aea9e4-81ee-11ed-a713-8c04ba17c1e0.jpg -> Annotation:C:/Users/ASOMAN/Desktop/ObjectDeten1/TFODCourse/Tensorflow/workspace/images/collectedimages/thumbsup\\thumbsup.79aea9e4-81ee-11ed-a713-8c04ba17c1e0.xml\n",
      "Image:C:\\Users\\ASOMAN\\Desktop\\ObjectDeten1\\TFODCourse\\Tensorflow\\workspace\\images\\collectedimages\\thumbsup\\thumbsup.760b444d-81ee-11ed-bb0b-8c04ba17c1e0.jpg -> Annotation:C:/Users/ASOMAN/Desktop/ObjectDeten1/TFODCourse/Tensorflow/workspace/images/collectedimages/thumbsup\\thumbsup.760b444d-81ee-11ed-bb0b-8c04ba17c1e0.xml\n",
      "Image:C:\\Users\\ASOMAN\\Desktop\\ObjectDeten1\\TFODCourse\\Tensorflow\\workspace\\images\\collectedimages\\thumbsup\\thumbsup.bf0b1961-81ee-11ed-879d-8c04ba17c1e0.jpg -> Annotation:C:/Users/ASOMAN/Desktop/ObjectDeten1/TFODCourse/Tensorflow/workspace/images/collectedimages/thumbsup\\thumbsup.bf0b1961-81ee-11ed-879d-8c04ba17c1e0.xml\n",
      "Image:C:\\Users\\ASOMAN\\Desktop\\ObjectDeten1\\TFODCourse\\Tensorflow\\workspace\\images\\collectedimages\\thumbsup\\thumbsup.c0d8bb07-81ee-11ed-87e0-8c04ba17c1e0.jpg -> Annotation:C:/Users/ASOMAN/Desktop/ObjectDeten1/TFODCourse/Tensorflow/workspace/images/collectedimages/thumbsup\\thumbsup.c0d8bb07-81ee-11ed-87e0-8c04ba17c1e0.xml\n",
      "Image:C:\\Users\\ASOMAN\\Desktop\\ObjectDeten1\\TFODCourse\\Tensorflow\\workspace\\images\\collectedimages\\thumbsup\\thumbsup.c2a671cd-81ee-11ed-989a-8c04ba17c1e0.jpg -> Annotation:C:/Users/ASOMAN/Desktop/ObjectDeten1/TFODCourse/Tensorflow/workspace/images/collectedimages/thumbsup\\thumbsup.c2a671cd-81ee-11ed-989a-8c04ba17c1e0.xml\n",
      "Image:C:\\Users\\ASOMAN\\Desktop\\ObjectDeten1\\TFODCourse\\Tensorflow\\workspace\\images\\collectedimages\\thumbsup\\thumbsup.c643ac6b-81ee-11ed-bd1e-8c04ba17c1e0.jpg -> Annotation:C:/Users/ASOMAN/Desktop/ObjectDeten1/TFODCourse/Tensorflow/workspace/images/collectedimages/thumbsup\\thumbsup.c643ac6b-81ee-11ed-bd1e-8c04ba17c1e0.xml\n",
      "Image:C:\\Users\\ASOMAN\\Desktop\\ObjectDeten1\\TFODCourse\\Tensorflow\\workspace\\images\\collectedimages\\thumbsup\\thumbsup.c810e95b-81ee-11ed-9f2f-8c04ba17c1e0.jpg -> Annotation:C:/Users/ASOMAN/Desktop/ObjectDeten1/TFODCourse/Tensorflow/workspace/images/collectedimages/thumbsup\\thumbsup.c810e95b-81ee-11ed-9f2f-8c04ba17c1e0.xml\n",
      "Image:C:\\Users\\ASOMAN\\Desktop\\ObjectDeten1\\TFODCourse\\Tensorflow\\workspace\\images\\collectedimages\\thumbsdown\\thumbsdown.8b48ca15-81ee-11ed-a86e-8c04ba17c1e0.jpg -> Annotation:C:/Users/ASOMAN/Desktop/ObjectDeten1/TFODCourse/Tensorflow/workspace/images/collectedimages/thumbsdown\\thumbsdown.8b48ca15-81ee-11ed-a86e-8c04ba17c1e0.xml\n",
      "Image:C:\\Users\\ASOMAN\\Desktop\\ObjectDeten1\\TFODCourse\\Tensorflow\\workspace\\images\\collectedimages\\thumbsdown\\thumbsdown.8d14b93f-81ee-11ed-9a53-8c04ba17c1e0.jpg -> Annotation:C:/Users/ASOMAN/Desktop/ObjectDeten1/TFODCourse/Tensorflow/workspace/images/collectedimages/thumbsdown\\thumbsdown.8d14b93f-81ee-11ed-9a53-8c04ba17c1e0.xml\n",
      "Image:C:\\Users\\ASOMAN\\Desktop\\ObjectDeten1\\TFODCourse\\Tensorflow\\workspace\\images\\collectedimages\\thumbsdown\\thumbsdown.8ee0be76-81ee-11ed-9dc7-8c04ba17c1e0.jpg -> Annotation:C:/Users/ASOMAN/Desktop/ObjectDeten1/TFODCourse/Tensorflow/workspace/images/collectedimages/thumbsdown\\thumbsdown.8ee0be76-81ee-11ed-9dc7-8c04ba17c1e0.xml\n",
      "Image:C:\\Users\\ASOMAN\\Desktop\\ObjectDeten1\\TFODCourse\\Tensorflow\\workspace\\images\\collectedimages\\thumbsdown\\thumbsdown.85e186eb-81ee-11ed-ae5d-8c04ba17c1e0.jpg -> Annotation:C:/Users/ASOMAN/Desktop/ObjectDeten1/TFODCourse/Tensorflow/workspace/images/collectedimages/thumbsdown\\thumbsdown.85e186eb-81ee-11ed-ae5d-8c04ba17c1e0.xml\n",
      "Image:C:\\Users\\ASOMAN\\Desktop\\ObjectDeten1\\TFODCourse\\Tensorflow\\workspace\\images\\collectedimages\\thumbsdown\\thumbsdown.87ad6d1a-81ee-11ed-bad4-8c04ba17c1e0.jpg -> Annotation:C:/Users/ASOMAN/Desktop/ObjectDeten1/TFODCourse/Tensorflow/workspace/images/collectedimages/thumbsdown\\thumbsdown.87ad6d1a-81ee-11ed-bad4-8c04ba17c1e0.xml\n",
      "Image:C:\\Users\\ASOMAN\\Desktop\\ObjectDeten1\\TFODCourse\\Tensorflow\\workspace\\images\\collectedimages\\thumbsdown\\thumbsdown.8979ca0e-81ee-11ed-a3ee-8c04ba17c1e0.jpg -> Annotation:C:/Users/ASOMAN/Desktop/ObjectDeten1/TFODCourse/Tensorflow/workspace/images/collectedimages/thumbsdown\\thumbsdown.8979ca0e-81ee-11ed-a3ee-8c04ba17c1e0.xml\n",
      "Image:C:\\Users\\ASOMAN\\Desktop\\ObjectDeten1\\TFODCourse\\Tensorflow\\workspace\\images\\collectedimages\\thumbsdown\\thumbsdown.ceb7086d-81ee-11ed-ab8a-8c04ba17c1e0.jpg -> Annotation:C:/Users/ASOMAN/Desktop/ObjectDeten1/TFODCourse/Tensorflow/workspace/images/collectedimages/thumbsdown\\thumbsdown.ceb7086d-81ee-11ed-ab8a-8c04ba17c1e0.xml\n",
      "Image:C:\\Users\\ASOMAN\\Desktop\\ObjectDeten1\\TFODCourse\\Tensorflow\\workspace\\images\\collectedimages\\thumbsdown\\thumbsdown.d5efcef0-81ee-11ed-b318-8c04ba17c1e0.jpg -> Annotation:C:/Users/ASOMAN/Desktop/ObjectDeten1/TFODCourse/Tensorflow/workspace/images/collectedimages/thumbsdown\\thumbsdown.d5efcef0-81ee-11ed-b318-8c04ba17c1e0.xml\n",
      "Image:C:\\Users\\ASOMAN\\Desktop\\ObjectDeten1\\TFODCourse\\Tensorflow\\workspace\\images\\collectedimages\\thumbsdown\\thumbsdown.d7bb8274-81ee-11ed-8142-8c04ba17c1e0.jpg -> Annotation:C:/Users/ASOMAN/Desktop/ObjectDeten1/TFODCourse/Tensorflow/workspace/images/collectedimages/thumbsdown\\thumbsdown.d7bb8274-81ee-11ed-8142-8c04ba17c1e0.xml\n",
      "Image:C:\\Users\\ASOMAN\\Desktop\\ObjectDeten1\\TFODCourse\\Tensorflow\\workspace\\images\\collectedimages\\thumbsdown\\thumbsdown.d086bd4f-81ee-11ed-9c27-8c04ba17c1e0.jpg -> Annotation:C:/Users/ASOMAN/Desktop/ObjectDeten1/TFODCourse/Tensorflow/workspace/images/collectedimages/thumbsdown\\thumbsdown.d086bd4f-81ee-11ed-9c27-8c04ba17c1e0.xml\n",
      "Image:C:\\Users\\ASOMAN\\Desktop\\ObjectDeten1\\TFODCourse\\Tensorflow\\workspace\\images\\collectedimages\\thumbsdown\\thumbsdown.d42324e0-81ee-11ed-b64c-8c04ba17c1e0.jpg -> Annotation:C:/Users/ASOMAN/Desktop/ObjectDeten1/TFODCourse/Tensorflow/workspace/images/collectedimages/thumbsdown\\thumbsdown.d42324e0-81ee-11ed-b64c-8c04ba17c1e0.xml\n"
     ]
    }
   ],
   "source": [
    "!cd {LABELIMG_PATH} && python labelImg.py"
   ]
  },
  {
   "cell_type": "markdown",
   "metadata": {},
   "source": [
    "# 6. Move them into a Training and Testing Partition"
   ]
  },
  {
   "cell_type": "markdown",
   "metadata": {},
   "source": [
    "# OPTIONAL - 7. Compress them for Colab Training"
   ]
  },
  {
   "cell_type": "code",
   "execution_count": 5,
   "metadata": {},
   "outputs": [],
   "source": [
    "TRAIN_PATH = os.path.join('Tensorflow', 'workspace', 'images', 'train')\n",
    "TEST_PATH = os.path.join('Tensorflow', 'workspace', 'images', 'test')\n",
    "ARCHIVE_PATH = os.path.join('Tensorflow', 'workspace', 'images', 'archive.tar.gz')"
   ]
  },
  {
   "cell_type": "code",
   "execution_count": 6,
   "metadata": {},
   "outputs": [],
   "source": [
    "!tar -czf {ARCHIVE_PATH} {TRAIN_PATH} {TEST_PATH}"
   ]
  },
  {
   "cell_type": "code",
   "execution_count": null,
   "metadata": {},
   "outputs": [],
   "source": []
  }
 ],
 "metadata": {
  "kernelspec": {
   "display_name": "tfod",
   "language": "python",
   "name": "tfod"
  },
  "language_info": {
   "codemirror_mode": {
    "name": "ipython",
    "version": 3
   },
   "file_extension": ".py",
   "mimetype": "text/x-python",
   "name": "python",
   "nbconvert_exporter": "python",
   "pygments_lexer": "ipython3",
   "version": "3.10.5"
  }
 },
 "nbformat": 4,
 "nbformat_minor": 2
}
